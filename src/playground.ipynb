{
 "cells": [
  {
   "cell_type": "code",
   "execution_count": 2,
   "metadata": {},
   "outputs": [],
   "source": [
    "import torch\n",
    "from trainers.rnn_trainer import RNNTrainer\n",
    "from torch.optim import Adam\n",
    "from torch import nn\n",
    "import utils\n",
    "from models.model import Seq2SeqLSTM\n",
    "from data import get_vocabs\n",
    "from torchtext.datasets import Multi30k"
   ]
  },
  {
   "cell_type": "markdown",
   "metadata": {},
   "source": [
    "### understand the data loading"
   ]
  },
  {
   "cell_type": "code",
   "execution_count": 4,
   "metadata": {},
   "outputs": [],
   "source": [
    "optimizer_type = Adam\n",
    "criterion = nn.CrossEntropyLoss(ignore_index=utils.PAD_IDX)\n",
    "device = torch.device('cuda')\n",
    "save_dir = '/home/tingchen/learning_subspace_save/'\n",
    "batch_size = 32\n",
    "dropout_prob = 0.15\n",
    "learning_rate = 1e-3\n",
    "embed_size=256\n",
    "hidden_size=256\n",
    "seed=23\n",
    "\n",
    "trainer = RNNTrainer(optimizer_type=optimizer_type,\n",
    "criterion=criterion,\n",
    "device=device,\n",
    "batch_size=batch_size,\n",
    "dropout_prob=dropout_prob,\n",
    "learning_rate=learning_rate,\n",
    "save_dir=save_dir,\n",
    "embed_size=embed_size,\n",
    "hidden_size=hidden_size,\n",
    "seed=seed\n",
    ")"
   ]
  },
  {
   "cell_type": "code",
   "execution_count": 7,
   "metadata": {},
   "outputs": [],
   "source": [
    "train_loader, val_loader = trainer.create_dataloaders()"
   ]
  },
  {
   "cell_type": "code",
   "execution_count": 8,
   "metadata": {},
   "outputs": [],
   "source": [
    "batch = next(iter(train_loader))"
   ]
  },
  {
   "cell_type": "code",
   "execution_count": 11,
   "metadata": {},
   "outputs": [
    {
     "name": "stdout",
     "output_type": "stream",
     "text": [
      "torch.Size([21, 32]) torch.Size([24, 32])\n"
     ]
    }
   ],
   "source": [
    "src, tgt = batch\n",
    "print(src.size(), tgt.size())"
   ]
  },
  {
   "cell_type": "code",
   "execution_count": 13,
   "metadata": {},
   "outputs": [
    {
     "data": {
      "text/plain": [
       "tensor([  2,  84,  31,  10, 847,   0,  15,   0,   4,   3,   1,   1,   1,   1,\n",
       "          1,   1,   1,   1,   1,   1,   1])"
      ]
     },
     "execution_count": 13,
     "metadata": {},
     "output_type": "execute_result"
    }
   ],
   "source": [
    "src[:, 1]"
   ]
  },
  {
   "cell_type": "code",
   "execution_count": 14,
   "metadata": {},
   "outputs": [
    {
     "data": {
      "text/plain": [
       "tensor([   2,  165,   36,    7,  335,  287,   17, 1224,    4,  758,    0,    0,\n",
       "           5,    3,    1,    1,    1,    1,    1,    1,    1,    1,    1,    1])"
      ]
     },
     "execution_count": 14,
     "metadata": {},
     "output_type": "execute_result"
    }
   ],
   "source": [
    "tgt[:, 1]"
   ]
  },
  {
   "cell_type": "code",
   "execution_count": 23,
   "metadata": {},
   "outputs": [
    {
     "data": {
      "text/plain": [
       "'<bos> Zwei junge weiße Männer sind im Freien in der Nähe <unk> <unk> . <eos> <pad> <pad> <pad> <pad> <pad> <pad>'"
      ]
     },
     "execution_count": 23,
     "metadata": {},
     "output_type": "execute_result"
    }
   ],
   "source": [
    "' '.join(trainer.vocab_transform[utils.src_lang].lookup_tokens(list((src[:, 0].detach().cpu().numpy()))))"
   ]
  },
  {
   "cell_type": "code",
   "execution_count": 24,
   "metadata": {},
   "outputs": [
    {
     "data": {
      "text/plain": [
       "'<bos> Two young , White males are outside near many <unk> . <eos> <pad> <pad> <pad> <pad> <pad> <pad> <pad> <pad> <pad> <pad> <pad>'"
      ]
     },
     "execution_count": 24,
     "metadata": {},
     "output_type": "execute_result"
    }
   ],
   "source": [
    "' '.join(trainer.vocab_transform[utils.tgt_lang].lookup_tokens(list((tgt[:, 0].detach().cpu().numpy()))))"
   ]
  },
  {
   "cell_type": "markdown",
   "metadata": {},
   "source": [
    "## Test out trained model"
   ]
  },
  {
   "cell_type": "code",
   "execution_count": 27,
   "metadata": {},
   "outputs": [],
   "source": [
    "vocab_transform = get_vocabs(utils.src_lang, utils.tgt_lang)"
   ]
  },
  {
   "cell_type": "code",
   "execution_count": 30,
   "metadata": {},
   "outputs": [],
   "source": [
    "model = Seq2SeqLSTM(src_vocab_size=len(vocab_transform[utils.src_lang]),\n",
    "                    tgt_vocab_size=len(vocab_transform[utils.tgt_lang]),\n",
    "                    embed_size=embed_size,\n",
    "                    hidden_size=hidden_size,\n",
    "                    dropout_prob=dropout_prob)"
   ]
  },
  {
   "cell_type": "code",
   "execution_count": 31,
   "metadata": {},
   "outputs": [],
   "source": [
    "name = 'seq2seq_vanilla_lstms'"
   ]
  },
  {
   "cell_type": "code",
   "execution_count": 32,
   "metadata": {},
   "outputs": [
    {
     "data": {
      "text/plain": [
       "<All keys matched successfully>"
      ]
     },
     "execution_count": 32,
     "metadata": {},
     "output_type": "execute_result"
    }
   ],
   "source": [
    "model.load_state_dict(torch.load(f'{save_dir}models/{name}.pt'))"
   ]
  },
  {
   "cell_type": "code",
   "execution_count": 33,
   "metadata": {},
   "outputs": [],
   "source": [
    "decoder_output, decoder_hidden, decoder_cell = model(\n",
    "                    src[:, 1].reshape(1, -1), tgt[:, 1].reshape(1, -1), teacher_forcing_ratio=0)"
   ]
  },
  {
   "cell_type": "code",
   "execution_count": 37,
   "metadata": {},
   "outputs": [
    {
     "data": {
      "text/plain": [
       "'A men are a hats are playing <unk> <unk> <unk> . . <eos> <eos> . . . . . . . . . .'"
      ]
     },
     "execution_count": 37,
     "metadata": {},
     "output_type": "execute_result"
    }
   ],
   "source": [
    "translated = decoder_output.squeeze().argmax(1)\n",
    "\n",
    "' '.join(trainer.vocab_transform[utils.tgt_lang].lookup_tokens(list((translated.detach().cpu().numpy()))))"
   ]
  },
  {
   "cell_type": "markdown",
   "metadata": {},
   "source": [
    "## Try to calculate BLEU"
   ]
  },
  {
   "cell_type": "code",
   "execution_count": 3,
   "metadata": {},
   "outputs": [],
   "source": [
    "test_data = Multi30k(split='test',\n",
    "                            language_pair=(utils.src_lang, utils.tgt_lang))"
   ]
  },
  {
   "cell_type": "code",
   "execution_count": 5,
   "metadata": {},
   "outputs": [],
   "source": [
    "val_dataloader = torch.utils.data.DataLoader(test_data,\n",
    "                                    batch_size=batch_size,\n",
    "                                    collate_fn=utils.collate_fn,\n",
    "                                    shuffle=False)"
   ]
  }
 ],
 "metadata": {
  "kernelspec": {
   "display_name": "Python 3.7.12 ('base')",
   "language": "python",
   "name": "python3"
  },
  "language_info": {
   "codemirror_mode": {
    "name": "ipython",
    "version": 3
   },
   "file_extension": ".py",
   "mimetype": "text/x-python",
   "name": "python",
   "nbconvert_exporter": "python",
   "pygments_lexer": "ipython3",
   "version": "3.7.12"
  },
  "orig_nbformat": 4,
  "vscode": {
   "interpreter": {
    "hash": "d4d1e4263499bec80672ea0156c357c1ee493ec2b1c70f0acce89fc37c4a6abe"
   }
  }
 },
 "nbformat": 4,
 "nbformat_minor": 2
}
